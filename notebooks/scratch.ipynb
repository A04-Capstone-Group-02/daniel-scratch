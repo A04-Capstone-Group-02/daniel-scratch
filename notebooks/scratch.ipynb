{
 "cells": [
  {
   "cell_type": "code",
   "execution_count": 1,
   "metadata": {
    "ExecuteTime": {
     "end_time": "2021-01-08T03:32:16.026313Z",
     "start_time": "2021-01-08T03:32:15.603998Z"
    }
   },
   "outputs": [],
   "source": [
    "import pandas as pd"
   ]
  },
  {
   "cell_type": "code",
   "execution_count": 2,
   "metadata": {
    "ExecuteTime": {
     "end_time": "2021-01-08T03:32:16.751812Z",
     "start_time": "2021-01-08T03:32:16.029439Z"
    }
   },
   "outputs": [
    {
     "data": {
      "text/html": [
       "<div>\n",
       "<style scoped>\n",
       "    .dataframe tbody tr th:only-of-type {\n",
       "        vertical-align: middle;\n",
       "    }\n",
       "\n",
       "    .dataframe tbody tr th {\n",
       "        vertical-align: top;\n",
       "    }\n",
       "\n",
       "    .dataframe thead th {\n",
       "        text-align: right;\n",
       "    }\n",
       "</style>\n",
       "<table border=\"1\" class=\"dataframe\">\n",
       "  <thead>\n",
       "    <tr style=\"text-align: right;\">\n",
       "      <th></th>\n",
       "      <th>name</th>\n",
       "      <th>date</th>\n",
       "      <th>revenue</th>\n",
       "      <th>runtime</th>\n",
       "      <th>languages</th>\n",
       "      <th>countries</th>\n",
       "      <th>genres</th>\n",
       "      <th>summary</th>\n",
       "    </tr>\n",
       "  </thead>\n",
       "  <tbody>\n",
       "    <tr>\n",
       "      <th>0</th>\n",
       "      <td>Blacksmith Scene</td>\n",
       "      <td>1893-01-01</td>\n",
       "      <td>NaN</td>\n",
       "      <td>0.566667</td>\n",
       "      <td>['Silent film']</td>\n",
       "      <td>['United States of America']</td>\n",
       "      <td>['Short Film', 'Silent film', 'Indie', 'Black-...</td>\n",
       "      <td>The scene is all filmed from a stationary came...</td>\n",
       "    </tr>\n",
       "    <tr>\n",
       "      <th>1</th>\n",
       "      <td>Miss Jerry</td>\n",
       "      <td>1894-10-09</td>\n",
       "      <td>NaN</td>\n",
       "      <td>NaN</td>\n",
       "      <td>['Silent film']</td>\n",
       "      <td>['United States of America']</td>\n",
       "      <td>['Short Film', 'Silent film', 'Indie', 'Black-...</td>\n",
       "      <td>After finding out that her father is suffering...</td>\n",
       "    </tr>\n",
       "    <tr>\n",
       "      <th>2</th>\n",
       "      <td>Corbett and Courtney Before the Kinetograph</td>\n",
       "      <td>1894-11-17</td>\n",
       "      <td>NaN</td>\n",
       "      <td>NaN</td>\n",
       "      <td>['Silent film']</td>\n",
       "      <td>['United States of America']</td>\n",
       "      <td>['Short Film', 'Silent film', 'Indie', 'Black-...</td>\n",
       "      <td>James J. Corbett and Peter Courtney both take ...</td>\n",
       "    </tr>\n",
       "    <tr>\n",
       "      <th>3</th>\n",
       "      <td>Opening of the Kiel Canal</td>\n",
       "      <td>1895-01-01</td>\n",
       "      <td>NaN</td>\n",
       "      <td>0.300000</td>\n",
       "      <td>['Silent film']</td>\n",
       "      <td>['United Kingdom']</td>\n",
       "      <td>['Short Film', 'Silent film', 'Indie', 'Docume...</td>\n",
       "      <td>The film opens with a shot of the North Sea Ca...</td>\n",
       "    </tr>\n",
       "    <tr>\n",
       "      <th>4</th>\n",
       "      <td>Workers Leaving the Lumiere Factory</td>\n",
       "      <td>1895-01-01</td>\n",
       "      <td>NaN</td>\n",
       "      <td>0.766667</td>\n",
       "      <td>['French Language', 'Silent film']</td>\n",
       "      <td>['France']</td>\n",
       "      <td>['Short Film', 'Silent film', 'Indie', 'Black-...</td>\n",
       "      <td>The film consists of a single scene in which w...</td>\n",
       "    </tr>\n",
       "  </tbody>\n",
       "</table>\n",
       "</div>"
      ],
      "text/plain": [
       "                                          name       date  revenue   runtime  \\\n",
       "0                             Blacksmith Scene 1893-01-01      NaN  0.566667   \n",
       "1                                   Miss Jerry 1894-10-09      NaN       NaN   \n",
       "2  Corbett and Courtney Before the Kinetograph 1894-11-17      NaN       NaN   \n",
       "3                    Opening of the Kiel Canal 1895-01-01      NaN  0.300000   \n",
       "4          Workers Leaving the Lumiere Factory 1895-01-01      NaN  0.766667   \n",
       "\n",
       "                            languages                     countries  \\\n",
       "0                     ['Silent film']  ['United States of America']   \n",
       "1                     ['Silent film']  ['United States of America']   \n",
       "2                     ['Silent film']  ['United States of America']   \n",
       "3                     ['Silent film']            ['United Kingdom']   \n",
       "4  ['French Language', 'Silent film']                    ['France']   \n",
       "\n",
       "                                              genres  \\\n",
       "0  ['Short Film', 'Silent film', 'Indie', 'Black-...   \n",
       "1  ['Short Film', 'Silent film', 'Indie', 'Black-...   \n",
       "2  ['Short Film', 'Silent film', 'Indie', 'Black-...   \n",
       "3  ['Short Film', 'Silent film', 'Indie', 'Docume...   \n",
       "4  ['Short Film', 'Silent film', 'Indie', 'Black-...   \n",
       "\n",
       "                                             summary  \n",
       "0  The scene is all filmed from a stationary came...  \n",
       "1  After finding out that her father is suffering...  \n",
       "2  James J. Corbett and Peter Courtney both take ...  \n",
       "3  The film opens with a shot of the North Sea Ca...  \n",
       "4  The film consists of a single scene in which w...  "
      ]
     },
     "execution_count": 2,
     "metadata": {},
     "output_type": "execute_result"
    }
   ],
   "source": [
    "df = pd.read_csv('../data/out/data.csv', parse_dates=['date'])\n",
    "df.head()"
   ]
  },
  {
   "cell_type": "code",
   "execution_count": 3,
   "metadata": {
    "ExecuteTime": {
     "end_time": "2021-01-08T03:32:16.761689Z",
     "start_time": "2021-01-08T03:32:16.753896Z"
    }
   },
   "outputs": [
    {
     "data": {
      "text/plain": [
       "name                 object\n",
       "date         datetime64[ns]\n",
       "revenue             float64\n",
       "runtime             float64\n",
       "languages            object\n",
       "countries            object\n",
       "genres               object\n",
       "summary              object\n",
       "dtype: object"
      ]
     },
     "execution_count": 3,
     "metadata": {},
     "output_type": "execute_result"
    }
   ],
   "source": [
    "df.dtypes"
   ]
  }
 ],
 "metadata": {
  "kernelspec": {
   "display_name": "Python 3",
   "language": "python",
   "name": "python3"
  },
  "language_info": {
   "codemirror_mode": {
    "name": "ipython",
    "version": 3
   },
   "file_extension": ".py",
   "mimetype": "text/x-python",
   "name": "python",
   "nbconvert_exporter": "python",
   "pygments_lexer": "ipython3",
   "version": "3.8.5"
  }
 },
 "nbformat": 4,
 "nbformat_minor": 4
}
