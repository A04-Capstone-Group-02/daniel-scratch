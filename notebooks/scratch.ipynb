{
 "cells": [
  {
   "cell_type": "code",
   "execution_count": 1,
   "metadata": {
    "ExecuteTime": {
     "end_time": "2021-01-07T05:43:10.474005Z",
     "start_time": "2021-01-07T05:43:09.051308Z"
    }
   },
   "outputs": [],
   "source": [
    "import pandas as pd\n",
    "from pandas_profiling import ProfileReport"
   ]
  },
  {
   "cell_type": "code",
   "execution_count": 2,
   "metadata": {
    "ExecuteTime": {
     "end_time": "2021-01-07T05:43:10.480184Z",
     "start_time": "2021-01-07T05:43:10.476018Z"
    }
   },
   "outputs": [],
   "source": [
    "def normalize(x):\n",
    "    dictionary = eval(x)\n",
    "    if dictionary:\n",
    "        return list(dictionary.values())"
   ]
  },
  {
   "cell_type": "code",
   "execution_count": 3,
   "metadata": {
    "ExecuteTime": {
     "end_time": "2021-01-07T05:43:13.223371Z",
     "start_time": "2021-01-07T05:43:10.482932Z"
    }
   },
   "outputs": [
    {
     "data": {
      "text/html": [
       "<div>\n",
       "<style scoped>\n",
       "    .dataframe tbody tr th:only-of-type {\n",
       "        vertical-align: middle;\n",
       "    }\n",
       "\n",
       "    .dataframe tbody tr th {\n",
       "        vertical-align: top;\n",
       "    }\n",
       "\n",
       "    .dataframe thead th {\n",
       "        text-align: right;\n",
       "    }\n",
       "</style>\n",
       "<table border=\"1\" class=\"dataframe\">\n",
       "  <thead>\n",
       "    <tr style=\"text-align: right;\">\n",
       "      <th></th>\n",
       "      <th>name</th>\n",
       "      <th>date</th>\n",
       "      <th>revenue</th>\n",
       "      <th>runtime</th>\n",
       "      <th>languages</th>\n",
       "      <th>countries</th>\n",
       "      <th>genres</th>\n",
       "    </tr>\n",
       "    <tr>\n",
       "      <th>id</th>\n",
       "      <th></th>\n",
       "      <th></th>\n",
       "      <th></th>\n",
       "      <th></th>\n",
       "      <th></th>\n",
       "      <th></th>\n",
       "      <th></th>\n",
       "    </tr>\n",
       "  </thead>\n",
       "  <tbody>\n",
       "    <tr>\n",
       "      <th>975900</th>\n",
       "      <td>Ghosts of Mars</td>\n",
       "      <td>2001-08-24</td>\n",
       "      <td>14010832.0</td>\n",
       "      <td>98.0</td>\n",
       "      <td>[English Language]</td>\n",
       "      <td>[United States of America]</td>\n",
       "      <td>[Thriller, Science Fiction, Horror, Adventure,...</td>\n",
       "    </tr>\n",
       "    <tr>\n",
       "      <th>3196793</th>\n",
       "      <td>Getting Away with Murder: The JonBenét Ramsey ...</td>\n",
       "      <td>2000-02-16</td>\n",
       "      <td>NaN</td>\n",
       "      <td>95.0</td>\n",
       "      <td>[English Language]</td>\n",
       "      <td>[United States of America]</td>\n",
       "      <td>[Mystery, Biographical film, Drama, Crime Drama]</td>\n",
       "    </tr>\n",
       "    <tr>\n",
       "      <th>28463795</th>\n",
       "      <td>Brun bitter</td>\n",
       "      <td>1988-01-01</td>\n",
       "      <td>NaN</td>\n",
       "      <td>83.0</td>\n",
       "      <td>[Norwegian Language]</td>\n",
       "      <td>[Norway]</td>\n",
       "      <td>[Crime Fiction, Drama]</td>\n",
       "    </tr>\n",
       "    <tr>\n",
       "      <th>9363483</th>\n",
       "      <td>White Of The Eye</td>\n",
       "      <td>1987-01-01</td>\n",
       "      <td>NaN</td>\n",
       "      <td>110.0</td>\n",
       "      <td>[English Language]</td>\n",
       "      <td>[United Kingdom]</td>\n",
       "      <td>[Thriller, Erotic thriller, Psychological thri...</td>\n",
       "    </tr>\n",
       "    <tr>\n",
       "      <th>261236</th>\n",
       "      <td>A Woman in Flames</td>\n",
       "      <td>1983-01-01</td>\n",
       "      <td>NaN</td>\n",
       "      <td>106.0</td>\n",
       "      <td>[German Language]</td>\n",
       "      <td>[Germany]</td>\n",
       "      <td>[Drama]</td>\n",
       "    </tr>\n",
       "  </tbody>\n",
       "</table>\n",
       "</div>"
      ],
      "text/plain": [
       "                                                       name       date  \\\n",
       "id                                                                       \n",
       "975900                                       Ghosts of Mars 2001-08-24   \n",
       "3196793   Getting Away with Murder: The JonBenét Ramsey ... 2000-02-16   \n",
       "28463795                                        Brun bitter 1988-01-01   \n",
       "9363483                                    White Of The Eye 1987-01-01   \n",
       "261236                                    A Woman in Flames 1983-01-01   \n",
       "\n",
       "             revenue  runtime             languages  \\\n",
       "id                                                    \n",
       "975900    14010832.0     98.0    [English Language]   \n",
       "3196793          NaN     95.0    [English Language]   \n",
       "28463795         NaN     83.0  [Norwegian Language]   \n",
       "9363483          NaN    110.0    [English Language]   \n",
       "261236           NaN    106.0     [German Language]   \n",
       "\n",
       "                           countries  \\\n",
       "id                                     \n",
       "975900    [United States of America]   \n",
       "3196793   [United States of America]   \n",
       "28463795                    [Norway]   \n",
       "9363483             [United Kingdom]   \n",
       "261236                     [Germany]   \n",
       "\n",
       "                                                     genres  \n",
       "id                                                           \n",
       "975900    [Thriller, Science Fiction, Horror, Adventure,...  \n",
       "3196793    [Mystery, Biographical film, Drama, Crime Drama]  \n",
       "28463795                             [Crime Fiction, Drama]  \n",
       "9363483   [Thriller, Erotic thriller, Psychological thri...  \n",
       "261236                                              [Drama]  "
      ]
     },
     "execution_count": 3,
     "metadata": {},
     "output_type": "execute_result"
    }
   ],
   "source": [
    "movies = pd.read_csv(\n",
    "    '../data/raw/movie.metadata.tsv',\n",
    "    converters={'languages': normalize, 'countries': normalize, 'genres': normalize},\n",
    "    delimiter='\\t',\n",
    "    header=None,\n",
    "    index_col='id',\n",
    "    names='id name date revenue runtime languages countries genres'.split(),\n",
    "    usecols=[0, 2, 3, 4, 5, 6, 7, 8]\n",
    ").assign(date=lambda x: pd.to_datetime(x.date, errors='coerce'))\n",
    "movies.head()"
   ]
  },
  {
   "cell_type": "code",
   "execution_count": 4,
   "metadata": {
    "ExecuteTime": {
     "end_time": "2021-01-07T05:43:13.809573Z",
     "start_time": "2021-01-07T05:43:13.226030Z"
    }
   },
   "outputs": [
    {
     "data": {
      "text/html": [
       "<div>\n",
       "<style scoped>\n",
       "    .dataframe tbody tr th:only-of-type {\n",
       "        vertical-align: middle;\n",
       "    }\n",
       "\n",
       "    .dataframe tbody tr th {\n",
       "        vertical-align: top;\n",
       "    }\n",
       "\n",
       "    .dataframe thead th {\n",
       "        text-align: right;\n",
       "    }\n",
       "</style>\n",
       "<table border=\"1\" class=\"dataframe\">\n",
       "  <thead>\n",
       "    <tr style=\"text-align: right;\">\n",
       "      <th></th>\n",
       "      <th>summary</th>\n",
       "    </tr>\n",
       "    <tr>\n",
       "      <th>id</th>\n",
       "      <th></th>\n",
       "    </tr>\n",
       "  </thead>\n",
       "  <tbody>\n",
       "    <tr>\n",
       "      <th>23890098</th>\n",
       "      <td>Shlykov, a hard-working taxi driver and Lyosha...</td>\n",
       "    </tr>\n",
       "    <tr>\n",
       "      <th>31186339</th>\n",
       "      <td>The nation of Panem consists of a wealthy Capi...</td>\n",
       "    </tr>\n",
       "    <tr>\n",
       "      <th>20663735</th>\n",
       "      <td>Poovalli Induchoodan  is sentenced for six yea...</td>\n",
       "    </tr>\n",
       "    <tr>\n",
       "      <th>2231378</th>\n",
       "      <td>The Lemon Drop Kid , a New York City swindler,...</td>\n",
       "    </tr>\n",
       "    <tr>\n",
       "      <th>595909</th>\n",
       "      <td>Seventh-day Adventist Church pastor Michael Ch...</td>\n",
       "    </tr>\n",
       "  </tbody>\n",
       "</table>\n",
       "</div>"
      ],
      "text/plain": [
       "                                                    summary\n",
       "id                                                         \n",
       "23890098  Shlykov, a hard-working taxi driver and Lyosha...\n",
       "31186339  The nation of Panem consists of a wealthy Capi...\n",
       "20663735  Poovalli Induchoodan  is sentenced for six yea...\n",
       "2231378   The Lemon Drop Kid , a New York City swindler,...\n",
       "595909    Seventh-day Adventist Church pastor Michael Ch..."
      ]
     },
     "execution_count": 4,
     "metadata": {},
     "output_type": "execute_result"
    }
   ],
   "source": [
    "summaries = pd.read_csv(\n",
    "    '../data/raw/plot_summaries.txt',\n",
    "    delimiter='\\t',\n",
    "    header=None,\n",
    "    index_col='id',\n",
    "    names='id summary'.split())\n",
    "summaries.head()"
   ]
  },
  {
   "cell_type": "code",
   "execution_count": 5,
   "metadata": {
    "ExecuteTime": {
     "end_time": "2021-01-07T05:43:13.902800Z",
     "start_time": "2021-01-07T05:43:13.811559Z"
    }
   },
   "outputs": [
    {
     "data": {
      "text/html": [
       "<div>\n",
       "<style scoped>\n",
       "    .dataframe tbody tr th:only-of-type {\n",
       "        vertical-align: middle;\n",
       "    }\n",
       "\n",
       "    .dataframe tbody tr th {\n",
       "        vertical-align: top;\n",
       "    }\n",
       "\n",
       "    .dataframe thead th {\n",
       "        text-align: right;\n",
       "    }\n",
       "</style>\n",
       "<table border=\"1\" class=\"dataframe\">\n",
       "  <thead>\n",
       "    <tr style=\"text-align: right;\">\n",
       "      <th></th>\n",
       "      <th>name</th>\n",
       "      <th>date</th>\n",
       "      <th>revenue</th>\n",
       "      <th>runtime</th>\n",
       "      <th>languages</th>\n",
       "      <th>countries</th>\n",
       "      <th>genres</th>\n",
       "      <th>summary</th>\n",
       "    </tr>\n",
       "  </thead>\n",
       "  <tbody>\n",
       "    <tr>\n",
       "      <th>0</th>\n",
       "      <td>Blacksmith Scene</td>\n",
       "      <td>1893-01-01</td>\n",
       "      <td>NaN</td>\n",
       "      <td>0.566667</td>\n",
       "      <td>[Silent film]</td>\n",
       "      <td>[United States of America]</td>\n",
       "      <td>[Short Film, Silent film, Indie, Black-and-white]</td>\n",
       "      <td>The scene is all filmed from a stationary came...</td>\n",
       "    </tr>\n",
       "    <tr>\n",
       "      <th>1</th>\n",
       "      <td>Miss Jerry</td>\n",
       "      <td>1894-10-09</td>\n",
       "      <td>NaN</td>\n",
       "      <td>NaN</td>\n",
       "      <td>[Silent film]</td>\n",
       "      <td>[United States of America]</td>\n",
       "      <td>[Short Film, Silent film, Indie, Black-and-white]</td>\n",
       "      <td>After finding out that her father is suffering...</td>\n",
       "    </tr>\n",
       "    <tr>\n",
       "      <th>2</th>\n",
       "      <td>Corbett and Courtney Before the Kinetograph</td>\n",
       "      <td>1894-11-17</td>\n",
       "      <td>NaN</td>\n",
       "      <td>NaN</td>\n",
       "      <td>[Silent film]</td>\n",
       "      <td>[United States of America]</td>\n",
       "      <td>[Short Film, Silent film, Indie, Black-and-white]</td>\n",
       "      <td>James J. Corbett and Peter Courtney both take ...</td>\n",
       "    </tr>\n",
       "    <tr>\n",
       "      <th>3</th>\n",
       "      <td>Opening of the Kiel Canal</td>\n",
       "      <td>1895-01-01</td>\n",
       "      <td>NaN</td>\n",
       "      <td>0.300000</td>\n",
       "      <td>[Silent film]</td>\n",
       "      <td>[United Kingdom]</td>\n",
       "      <td>[Short Film, Silent film, Indie, Documentary]</td>\n",
       "      <td>The film opens with a shot of the North Sea Ca...</td>\n",
       "    </tr>\n",
       "    <tr>\n",
       "      <th>4</th>\n",
       "      <td>Workers Leaving the Lumiere Factory</td>\n",
       "      <td>1895-01-01</td>\n",
       "      <td>NaN</td>\n",
       "      <td>0.766667</td>\n",
       "      <td>[French Language, Silent film]</td>\n",
       "      <td>[France]</td>\n",
       "      <td>[Short Film, Silent film, Indie, Black-and-white]</td>\n",
       "      <td>The film consists of a single scene in which w...</td>\n",
       "    </tr>\n",
       "  </tbody>\n",
       "</table>\n",
       "</div>"
      ],
      "text/plain": [
       "                                          name       date  revenue   runtime  \\\n",
       "0                             Blacksmith Scene 1893-01-01      NaN  0.566667   \n",
       "1                                   Miss Jerry 1894-10-09      NaN       NaN   \n",
       "2  Corbett and Courtney Before the Kinetograph 1894-11-17      NaN       NaN   \n",
       "3                    Opening of the Kiel Canal 1895-01-01      NaN  0.300000   \n",
       "4          Workers Leaving the Lumiere Factory 1895-01-01      NaN  0.766667   \n",
       "\n",
       "                        languages                   countries  \\\n",
       "0                   [Silent film]  [United States of America]   \n",
       "1                   [Silent film]  [United States of America]   \n",
       "2                   [Silent film]  [United States of America]   \n",
       "3                   [Silent film]            [United Kingdom]   \n",
       "4  [French Language, Silent film]                    [France]   \n",
       "\n",
       "                                              genres  \\\n",
       "0  [Short Film, Silent film, Indie, Black-and-white]   \n",
       "1  [Short Film, Silent film, Indie, Black-and-white]   \n",
       "2  [Short Film, Silent film, Indie, Black-and-white]   \n",
       "3      [Short Film, Silent film, Indie, Documentary]   \n",
       "4  [Short Film, Silent film, Indie, Black-and-white]   \n",
       "\n",
       "                                             summary  \n",
       "0  The scene is all filmed from a stationary came...  \n",
       "1  After finding out that her father is suffering...  \n",
       "2  James J. Corbett and Peter Courtney both take ...  \n",
       "3  The film opens with a shot of the North Sea Ca...  \n",
       "4  The film consists of a single scene in which w...  "
      ]
     },
     "execution_count": 5,
     "metadata": {},
     "output_type": "execute_result"
    }
   ],
   "source": [
    "df = movies.merge(summaries, on='id').sort_values('date').reset_index(drop=True)\n",
    "df.head()"
   ]
  },
  {
   "cell_type": "code",
   "execution_count": 6,
   "metadata": {
    "ExecuteTime": {
     "end_time": "2021-01-07T05:43:45.679297Z",
     "start_time": "2021-01-07T05:43:13.905273Z"
    }
   },
   "outputs": [
    {
     "data": {
      "application/vnd.jupyter.widget-view+json": {
       "model_id": "bf051e7a79f34f9c8bfb50219c65ae7c",
       "version_major": 2,
       "version_minor": 0
      },
      "text/plain": [
       "HBox(children=(HTML(value='Summarize dataset'), FloatProgress(value=0.0, max=21.0), HTML(value='')))"
      ]
     },
     "metadata": {},
     "output_type": "display_data"
    },
    {
     "name": "stdout",
     "output_type": "stream",
     "text": [
      "\n"
     ]
    },
    {
     "data": {
      "application/vnd.jupyter.widget-view+json": {
       "model_id": "62c678b975314fc58f3528ebf0cf63e4",
       "version_major": 2,
       "version_minor": 0
      },
      "text/plain": [
       "HBox(children=(HTML(value='Generate report structure'), FloatProgress(value=0.0, max=1.0), HTML(value='')))"
      ]
     },
     "metadata": {},
     "output_type": "display_data"
    },
    {
     "name": "stdout",
     "output_type": "stream",
     "text": [
      "\n"
     ]
    },
    {
     "data": {
      "application/vnd.jupyter.widget-view+json": {
       "model_id": "690ed79acdab4e9bbe46e1b6d82bb4cd",
       "version_major": 2,
       "version_minor": 0
      },
      "text/plain": [
       "HBox(children=(HTML(value='Render HTML'), FloatProgress(value=0.0, max=1.0), HTML(value='')))"
      ]
     },
     "metadata": {},
     "output_type": "display_data"
    },
    {
     "name": "stdout",
     "output_type": "stream",
     "text": [
      "\n"
     ]
    },
    {
     "data": {
      "application/vnd.jupyter.widget-view+json": {
       "model_id": "62fff5c76cbb4dfbaaf35959e4245a70",
       "version_major": 2,
       "version_minor": 0
      },
      "text/plain": [
       "HBox(children=(HTML(value='Export report to file'), FloatProgress(value=0.0, max=1.0), HTML(value='')))"
      ]
     },
     "metadata": {},
     "output_type": "display_data"
    },
    {
     "name": "stdout",
     "output_type": "stream",
     "text": [
      "\n"
     ]
    }
   ],
   "source": [
    "ProfileReport(df).to_file('report.html')"
   ]
  }
 ],
 "metadata": {
  "kernelspec": {
   "display_name": "Python 3",
   "language": "python",
   "name": "python3"
  },
  "language_info": {
   "codemirror_mode": {
    "name": "ipython",
    "version": 3
   },
   "file_extension": ".py",
   "mimetype": "text/x-python",
   "name": "python",
   "nbconvert_exporter": "python",
   "pygments_lexer": "ipython3",
   "version": "3.8.5"
  }
 },
 "nbformat": 4,
 "nbformat_minor": 4
}
